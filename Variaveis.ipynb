{
 "cells": [
  {
   "cell_type": "code",
   "execution_count": 2,
   "metadata": {},
   "outputs": [],
   "source": [
    "#Variaveis normais\n",
    "var_normal = \"string\"\n",
    "var_float = 0.9\n",
    "\n",
    "#Variaveis multivalores\n",
    "\n",
    "var_list = [0, \"string1\" , 10.03]\n",
    "\n",
    "var_tupla = (1, 2,2,2,2, \"string\")\n",
    "\n",
    "var_dict = {\"aluno1\":\"Gabriel\",\n",
    "            \"aluno2\":\"Lucas\"}\n",
    "\n",
    "#Variavel multestrutura\n",
    "\n",
    "var_list_dict = [{1:2, 2:3}, {2:5, 5:6}]\n",
    "\n",
    "\n"
   ]
  },
  {
   "cell_type": "code",
   "execution_count": 6,
   "metadata": {},
   "outputs": [
    {
     "data": {
      "text/plain": [
       "'Lucas'"
      ]
     },
     "execution_count": 6,
     "metadata": {},
     "output_type": "execute_result"
    }
   ],
   "source": [
    "var_dict[\"aluno2\"] = \"Mateus\"\n",
    "var_dict"
   ]
  },
  {
   "cell_type": "code",
   "execution_count": 11,
   "metadata": {},
   "outputs": [
    {
     "name": "stdout",
     "output_type": "stream",
     "text": [
      "Gabriel\n",
      "Lucas\n"
     ]
    }
   ],
   "source": [
    "for item in var_dict.keys() :\n",
    "    print(var_dict[item])"
   ]
  },
  {
   "cell_type": "code",
   "execution_count": 5,
   "metadata": {},
   "outputs": [
    {
     "name": "stdout",
     "output_type": "stream",
     "text": [
      "<class 'str'>\n"
     ]
    },
    {
     "data": {
      "text/plain": [
       "'0.9'"
      ]
     },
     "execution_count": 5,
     "metadata": {},
     "output_type": "execute_result"
    }
   ],
   "source": [
    "var_string_2 = str(var_float)\n",
    "\n",
    "print(type(var_string_2))\n",
    "var_string_2"
   ]
  },
  {
   "cell_type": "code",
   "execution_count": 7,
   "metadata": {},
   "outputs": [
    {
     "data": {
      "text/plain": [
       "(0, 'string1', 10.03)"
      ]
     },
     "execution_count": 7,
     "metadata": {},
     "output_type": "execute_result"
    }
   ],
   "source": [
    "var_tupla_list = tuple(var_list)\n",
    "var_tupla_list"
   ]
  },
  {
   "cell_type": "code",
   "execution_count": 8,
   "metadata": {},
   "outputs": [
    {
     "data": {
      "text/plain": [
       "[1, 2, 'string']"
      ]
     },
     "execution_count": 8,
     "metadata": {},
     "output_type": "execute_result"
    }
   ],
   "source": [
    "var_list_tupla = list(var_tupla)\n",
    "var_list_tupla"
   ]
  },
  {
   "cell_type": "code",
   "execution_count": 10,
   "metadata": {},
   "outputs": [
    {
     "data": {
      "text/plain": [
       "['string', 1, 2]"
      ]
     },
     "execution_count": 10,
     "metadata": {},
     "output_type": "execute_result"
    }
   ],
   "source": [
    "var_distinct_list_tupla = list(set(var_tupla))\n",
    "var_distinct_list_tupla"
   ]
  }
 ],
 "metadata": {
  "kernelspec": {
   "display_name": "Python 3.7.9 64-bit",
   "language": "python",
   "name": "python3"
  },
  "language_info": {
   "codemirror_mode": {
    "name": "ipython",
    "version": 3
   },
   "file_extension": ".py",
   "mimetype": "text/x-python",
   "name": "python",
   "nbconvert_exporter": "python",
   "pygments_lexer": "ipython3",
   "version": "3.7.9"
  },
  "orig_nbformat": 4,
  "vscode": {
   "interpreter": {
    "hash": "c3cb49cc1503c8173f866b89d15f9effb02a0416f2f9f30041c77353e63c52bc"
   }
  }
 },
 "nbformat": 4,
 "nbformat_minor": 2
}
