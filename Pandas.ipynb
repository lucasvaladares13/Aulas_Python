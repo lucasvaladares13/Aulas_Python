{
 "cells": [
  {
   "cell_type": "code",
   "execution_count": 14,
   "metadata": {},
   "outputs": [],
   "source": [
    "#Importar as bibliotecas\n",
    "import imp\n",
    "import pandas as pd\n",
    "\n",
    "#from variaveis.dictonary import var_dict_aluno,var_dict_nota\n",
    "\n"
   ]
  },
  {
   "cell_type": "code",
   "execution_count": 15,
   "metadata": {},
   "outputs": [],
   "source": [
    "var_dict_aluno = {\"aluno1\":\"Gabriel\",\n",
    "            \"aluno2\":\"Lucas\",\n",
    "            \"aluno3\":\"Freitinhas\",\n",
    "            \"aluno4\":\"Miguelzim\",\n",
    "            \"aluno5\":\"Duduzim\",\n",
    "            \"aluno6\":\"Panqueca\",\n",
    "    \n",
    "            }\n",
    "\n",
    "var_dict_nota = {\"aluno1\":10,\n",
    "            \"aluno2\":10,\n",
    "            \"aluno3\":9,\n",
    "            \"aluno4\":5,\n",
    "            \"aluno5\":6,\n",
    "            \"aluno6\":8,\n",
    "    \n",
    "            }"
   ]
  },
  {
   "cell_type": "code",
   "execution_count": 4,
   "metadata": {},
   "outputs": [
    {
     "name": "stdout",
     "output_type": "stream",
     "text": [
      "Gabriel\n",
      "Lucas\n"
     ]
    }
   ],
   "source": [
    "for item in vd.var_dict.keys() :\n",
    "    print(vd.var_dict[item])"
   ]
  },
  {
   "cell_type": "code",
   "execution_count": 16,
   "metadata": {},
   "outputs": [
    {
     "data": {
      "text/plain": [
       "{'alunos': dict_values(['Gabriel', 'Lucas', 'Freitinhas', 'Miguelzim', 'Duduzim', 'Panqueca']),\n",
       " 'notas': dict_values([10, 10, 9, 5, 6, 8])}"
      ]
     },
     "execution_count": 16,
     "metadata": {},
     "output_type": "execute_result"
    }
   ],
   "source": [
    "var_dict_dados = {\"alunos\" : var_dict_aluno.values() , \"notas\": var_dict_nota.values()}\n",
    "var_dict_dados"
   ]
  },
  {
   "cell_type": "code",
   "execution_count": 33,
   "metadata": {},
   "outputs": [
    {
     "data": {
      "text/html": [
       "<div>\n",
       "<style scoped>\n",
       "    .dataframe tbody tr th:only-of-type {\n",
       "        vertical-align: middle;\n",
       "    }\n",
       "\n",
       "    .dataframe tbody tr th {\n",
       "        vertical-align: top;\n",
       "    }\n",
       "\n",
       "    .dataframe thead th {\n",
       "        text-align: right;\n",
       "    }\n",
       "</style>\n",
       "<table border=\"1\" class=\"dataframe\">\n",
       "  <thead>\n",
       "    <tr style=\"text-align: right;\">\n",
       "      <th></th>\n",
       "      <th>alunos</th>\n",
       "      <th>notas</th>\n",
       "    </tr>\n",
       "  </thead>\n",
       "  <tbody>\n",
       "    <tr>\n",
       "      <th>0</th>\n",
       "      <td>Gabriel</td>\n",
       "      <td>10</td>\n",
       "    </tr>\n",
       "    <tr>\n",
       "      <th>1</th>\n",
       "      <td>Lucas</td>\n",
       "      <td>10</td>\n",
       "    </tr>\n",
       "    <tr>\n",
       "      <th>2</th>\n",
       "      <td>Freitinhas</td>\n",
       "      <td>9</td>\n",
       "    </tr>\n",
       "    <tr>\n",
       "      <th>3</th>\n",
       "      <td>Miguelzim</td>\n",
       "      <td>5</td>\n",
       "    </tr>\n",
       "    <tr>\n",
       "      <th>4</th>\n",
       "      <td>Duduzim</td>\n",
       "      <td>6</td>\n",
       "    </tr>\n",
       "    <tr>\n",
       "      <th>5</th>\n",
       "      <td>Panqueca</td>\n",
       "      <td>8</td>\n",
       "    </tr>\n",
       "  </tbody>\n",
       "</table>\n",
       "</div>"
      ],
      "text/plain": [
       "       alunos  notas\n",
       "0     Gabriel     10\n",
       "1       Lucas     10\n",
       "2  Freitinhas      9\n",
       "3   Miguelzim      5\n",
       "4     Duduzim      6\n",
       "5    Panqueca      8"
      ]
     },
     "execution_count": 33,
     "metadata": {},
     "output_type": "execute_result"
    }
   ],
   "source": [
    "df_alunos =  pd.DataFrame(var_dict_dados)\n",
    "df_alunos"
   ]
  },
  {
   "cell_type": "code",
   "execution_count": 34,
   "metadata": {},
   "outputs": [],
   "source": [
    "path1 = \"C:\\\\Users\\\\lucas.oliveira\\\\Videos\\\\Demandas\\\\Python Scripts\\\\16_Python\\\\Dados\\\\VALE_BRU_SAN_2022_09_12_BIOAGRI_PUBLICADAS.xlsx\"\n",
    "path2 = \".\\\\Dados\\\\VALE_BRU_SAN_2022_09_12_BIOAGRI_PUBLICADAS.xlsx\"\n",
    "path_output = \".\\\\Dados\\\\\""
   ]
  },
  {
   "cell_type": "code",
   "execution_count": null,
   "metadata": {},
   "outputs": [],
   "source": [
    "#importar\n",
    "#pd.read_\"tipoArquivo\"\n",
    "\n",
    "#exportar\n",
    "#var_DataFrame.to_\"tipoArquivo\""
   ]
  },
  {
   "cell_type": "code",
   "execution_count": 25,
   "metadata": {},
   "outputs": [],
   "source": [
    "cols = ['#sys_sample_code','sample_matrix_code','sample_type_code','sample_date','sys_loc_code','task_code']"
   ]
  },
  {
   "cell_type": "code",
   "execution_count": 26,
   "metadata": {},
   "outputs": [],
   "source": [
    "df = pd.read_excel(path2, sheet_name= \"EFW2FSample\", usecols = cols  )"
   ]
  },
  {
   "cell_type": "code",
   "execution_count": 30,
   "metadata": {},
   "outputs": [
    {
     "name": "stderr",
     "output_type": "stream",
     "text": [
      "C:\\Users\\lucas.oliveira\\AppData\\Roaming\\Python\\Python37\\site-packages\\ipykernel_launcher.py:1: FutureWarning: Treating datetime data as categorical rather than numeric in `.describe` is deprecated and will be removed in a future version of pandas. Specify `datetime_is_numeric=True` to silence this warning and adopt the future behavior now.\n",
      "  \"\"\"Entry point for launching an IPython kernel.\n"
     ]
    },
    {
     "data": {
      "text/html": [
       "<div>\n",
       "<style scoped>\n",
       "    .dataframe tbody tr th:only-of-type {\n",
       "        vertical-align: middle;\n",
       "    }\n",
       "\n",
       "    .dataframe tbody tr th {\n",
       "        vertical-align: top;\n",
       "    }\n",
       "\n",
       "    .dataframe thead th {\n",
       "        text-align: right;\n",
       "    }\n",
       "</style>\n",
       "<table border=\"1\" class=\"dataframe\">\n",
       "  <thead>\n",
       "    <tr style=\"text-align: right;\">\n",
       "      <th></th>\n",
       "      <th>#sys_sample_code</th>\n",
       "      <th>sample_matrix_code</th>\n",
       "      <th>sample_type_code</th>\n",
       "      <th>sample_date</th>\n",
       "      <th>sys_loc_code</th>\n",
       "      <th>task_code</th>\n",
       "    </tr>\n",
       "  </thead>\n",
       "  <tbody>\n",
       "    <tr>\n",
       "      <th>count</th>\n",
       "      <td>100</td>\n",
       "      <td>100</td>\n",
       "      <td>100</td>\n",
       "      <td>100</td>\n",
       "      <td>16</td>\n",
       "      <td>100.0</td>\n",
       "    </tr>\n",
       "    <tr>\n",
       "      <th>unique</th>\n",
       "      <td>100</td>\n",
       "      <td>2</td>\n",
       "      <td>8</td>\n",
       "      <td>10</td>\n",
       "      <td>7</td>\n",
       "      <td>6.0</td>\n",
       "    </tr>\n",
       "    <tr>\n",
       "      <th>top</th>\n",
       "      <td>47053/2022_LCS_BIO</td>\n",
       "      <td>AT</td>\n",
       "      <td>BM</td>\n",
       "      <td>2022-09-01 00:00:00</td>\n",
       "      <td>US018A</td>\n",
       "      <td>0.0</td>\n",
       "    </tr>\n",
       "    <tr>\n",
       "      <th>freq</th>\n",
       "      <td>1</td>\n",
       "      <td>90</td>\n",
       "      <td>42</td>\n",
       "      <td>18</td>\n",
       "      <td>6</td>\n",
       "      <td>84.0</td>\n",
       "    </tr>\n",
       "    <tr>\n",
       "      <th>first</th>\n",
       "      <td>NaN</td>\n",
       "      <td>NaN</td>\n",
       "      <td>NaN</td>\n",
       "      <td>2022-08-29 00:00:00</td>\n",
       "      <td>NaN</td>\n",
       "      <td>NaN</td>\n",
       "    </tr>\n",
       "    <tr>\n",
       "      <th>last</th>\n",
       "      <td>NaN</td>\n",
       "      <td>NaN</td>\n",
       "      <td>NaN</td>\n",
       "      <td>2022-09-09 00:00:00</td>\n",
       "      <td>NaN</td>\n",
       "      <td>NaN</td>\n",
       "    </tr>\n",
       "  </tbody>\n",
       "</table>\n",
       "</div>"
      ],
      "text/plain": [
       "          #sys_sample_code sample_matrix_code sample_type_code  \\\n",
       "count                  100                100              100   \n",
       "unique                 100                  2                8   \n",
       "top     47053/2022_LCS_BIO                 AT               BM   \n",
       "freq                     1                 90               42   \n",
       "first                  NaN                NaN              NaN   \n",
       "last                   NaN                NaN              NaN   \n",
       "\n",
       "                sample_date sys_loc_code  task_code  \n",
       "count                   100           16      100.0  \n",
       "unique                   10            7        6.0  \n",
       "top     2022-09-01 00:00:00       US018A        0.0  \n",
       "freq                     18            6       84.0  \n",
       "first   2022-08-29 00:00:00          NaN        NaN  \n",
       "last    2022-09-09 00:00:00          NaN        NaN  "
      ]
     },
     "execution_count": 30,
     "metadata": {},
     "output_type": "execute_result"
    }
   ],
   "source": [
    "df.describe()\n"
   ]
  },
  {
   "cell_type": "code",
   "execution_count": 32,
   "metadata": {},
   "outputs": [
    {
     "name": "stdout",
     "output_type": "stream",
     "text": [
      "<class 'pandas.core.frame.DataFrame'>\n",
      "RangeIndex: 100 entries, 0 to 99\n",
      "Data columns (total 6 columns):\n",
      " #   Column              Non-Null Count  Dtype         \n",
      "---  ------              --------------  -----         \n",
      " 0   #sys_sample_code    100 non-null    object        \n",
      " 1   sample_matrix_code  100 non-null    object        \n",
      " 2   sample_type_code    100 non-null    object        \n",
      " 3   sample_date         100 non-null    datetime64[ns]\n",
      " 4   sys_loc_code        16 non-null     object        \n",
      " 5   task_code           100 non-null    object        \n",
      "dtypes: datetime64[ns](1), object(5)\n",
      "memory usage: 4.8+ KB\n"
     ]
    }
   ],
   "source": [
    "df.info()"
   ]
  },
  {
   "cell_type": "code",
   "execution_count": 36,
   "metadata": {},
   "outputs": [],
   "source": [
    "var_num_arquivo = 1"
   ]
  },
  {
   "cell_type": "code",
   "execution_count": 37,
   "metadata": {},
   "outputs": [],
   "source": [
    "df_alunos.to_excel(path_output + \"Tabela_Alunos_\" + str(var_num_arquivo) + \".xlsx\", sheet_name= \"Notas\", index=False )"
   ]
  }
 ],
 "metadata": {
  "kernelspec": {
   "display_name": "Python 3.7.9 64-bit",
   "language": "python",
   "name": "python3"
  },
  "language_info": {
   "codemirror_mode": {
    "name": "ipython",
    "version": 3
   },
   "file_extension": ".py",
   "mimetype": "text/x-python",
   "name": "python",
   "nbconvert_exporter": "python",
   "pygments_lexer": "ipython3",
   "version": "3.7.9"
  },
  "orig_nbformat": 4,
  "vscode": {
   "interpreter": {
    "hash": "c3cb49cc1503c8173f866b89d15f9effb02a0416f2f9f30041c77353e63c52bc"
   }
  }
 },
 "nbformat": 4,
 "nbformat_minor": 2
}
