{
 "cells": [
  {
   "cell_type": "code",
   "execution_count": null,
   "metadata": {},
   "outputs": [],
   "source": [
    "#Importar as bibliotecas\n",
    "\n",
    "import pandas as pd\n",
    "\n",
    "from variaveis.dicionarios import var_dict_aluno,var_dict_nota\n",
    "\n"
   ]
  },
  {
   "cell_type": "code",
   "execution_count": null,
   "metadata": {},
   "outputs": [],
   "source": [
    "for item in var_dict_aluno.keys() :\n",
    "    print(var_dict_aluno[item])"
   ]
  },
  {
   "cell_type": "code",
   "execution_count": null,
   "metadata": {},
   "outputs": [],
   "source": [
    "var_dict_dados = {\"alunos\" : var_dict_aluno.values() , \"notas\": var_dict_nota.values()}\n",
    "var_dict_dados"
   ]
  },
  {
   "cell_type": "code",
   "execution_count": null,
   "metadata": {},
   "outputs": [],
   "source": [
    "df_alunos =  pd.DataFrame(var_dict_dados)\n",
    "df_alunos"
   ]
  },
  {
   "cell_type": "code",
   "execution_count": null,
   "metadata": {},
   "outputs": [],
   "source": [
    "path1 = \"C:\\\\Users\\\\lucas.oliveira\\\\Videos\\\\Demandas\\\\Python Scripts\\\\16_Python\\\\Dados\\\\VALE_BRU_SAN_2022_09_12_BIOAGRI_PUBLICADAS.xlsx\"\n",
    "path2 = \".\\\\Dados\\\\VALE_BRU_SAN_2022_09_12_BIOAGRI_PUBLICADAS.xlsx\"\n",
    "path = \".\\\\Dados\\\\\""
   ]
  },
  {
   "cell_type": "code",
   "execution_count": null,
   "metadata": {},
   "outputs": [],
   "source": [
    "#importar\n",
    "#pd.read_\"tipoArquivo\"\n",
    "\n",
    "#exportar\n",
    "#var_DataFrame.to_\"tipoArquivo\""
   ]
  },
  {
   "cell_type": "code",
   "execution_count": null,
   "metadata": {},
   "outputs": [],
   "source": [
    "cols = ['#sys_sample_code','sample_matrix_code','sample_type_code','sample_date','sys_loc_code','task_code']"
   ]
  },
  {
   "cell_type": "code",
   "execution_count": null,
   "metadata": {},
   "outputs": [],
   "source": [
    "file_list = [\"VALE_BRU_SAN_2022_09_12_BIOAGRI_PUBLICADAS.xlsx\",\"VALE_BRU_SAN_2022_09_13_BIOAGRI_PUBLICADAS.xlsx\"]"
   ]
  },
  {
   "cell_type": "code",
   "execution_count": null,
   "metadata": {},
   "outputs": [],
   "source": [
    "df = pd.read_excel(path + \"VALE_BRU_SAN_2022_09_12_BIOAGRI_PUBLICADAS.xlsx\", sheet_name= \"EFW2FSample\", usecols = cols  )"
   ]
  },
  {
   "cell_type": "code",
   "execution_count": null,
   "metadata": {},
   "outputs": [],
   "source": [
    "#Compilar varios arquivos \n",
    "df_compiled = pd.DataFrame()\n",
    "for file in file_list:\n",
    "    df_list = pd.read_excel(path + file, sheet_name= \"EFW2FSample\", usecols = cols  )\n",
    "\n",
    "    df_compiled = df_compiled.append(df_list)\n",
    "\n",
    "    \n"
   ]
  },
  {
   "cell_type": "code",
   "execution_count": null,
   "metadata": {},
   "outputs": [],
   "source": [
    "df.describe()\n"
   ]
  },
  {
   "cell_type": "code",
   "execution_count": null,
   "metadata": {},
   "outputs": [],
   "source": [
    "df.info()"
   ]
  },
  {
   "cell_type": "code",
   "execution_count": null,
   "metadata": {},
   "outputs": [],
   "source": [
    "df_alunos.to_excel(path_output + \"Tabela_Alunos_\" + str(var_num_arquivo) + \".xlsx\", sheet_name= \"Notas\", index=False )"
   ]
  },
  {
   "cell_type": "code",
   "execution_count": 14,
   "metadata": {},
   "outputs": [
    {
     "data": {
      "text/html": [
       "<div>\n",
       "<style scoped>\n",
       "    .dataframe tbody tr th:only-of-type {\n",
       "        vertical-align: middle;\n",
       "    }\n",
       "\n",
       "    .dataframe tbody tr th {\n",
       "        vertical-align: top;\n",
       "    }\n",
       "\n",
       "    .dataframe thead th {\n",
       "        text-align: right;\n",
       "    }\n",
       "</style>\n",
       "<table border=\"1\" class=\"dataframe\">\n",
       "  <thead>\n",
       "    <tr style=\"text-align: right;\">\n",
       "      <th></th>\n",
       "      <th>#sys_sample_code</th>\n",
       "      <th>sample_matrix_code</th>\n",
       "      <th>sample_type_code</th>\n",
       "      <th>sample_date</th>\n",
       "      <th>sys_loc_code</th>\n",
       "      <th>task_code</th>\n",
       "    </tr>\n",
       "  </thead>\n",
       "  <tbody>\n",
       "    <tr>\n",
       "      <th>0</th>\n",
       "      <td>US1050FIL_448100,477BIOAMSAT675</td>\n",
       "      <td>AT</td>\n",
       "      <td>MS</td>\n",
       "      <td>2022-09-06</td>\n",
       "      <td>US1050FIL</td>\n",
       "      <td>[VAL_01 COMP]</td>\n",
       "    </tr>\n",
       "    <tr>\n",
       "      <th>1</th>\n",
       "      <td>US1050FIL_448100,476BIOAMSDAT674</td>\n",
       "      <td>AT</td>\n",
       "      <td>MSD</td>\n",
       "      <td>2022-09-06</td>\n",
       "      <td>US1050FIL</td>\n",
       "      <td>[VAL_01 COMP]</td>\n",
       "    </tr>\n",
       "    <tr>\n",
       "      <th>2</th>\n",
       "      <td>GMFLOC02FNB_448090,372BIOABVASUB131</td>\n",
       "      <td>ASUB</td>\n",
       "      <td>BV</td>\n",
       "      <td>2022-09-05</td>\n",
       "      <td>GMFLOC02FNB</td>\n",
       "      <td>[MON COMP]</td>\n",
       "    </tr>\n",
       "    <tr>\n",
       "      <th>3</th>\n",
       "      <td>US018A_448100,458BIOABEASUB165</td>\n",
       "      <td>ASUB</td>\n",
       "      <td>BE</td>\n",
       "      <td>2022-09-06</td>\n",
       "      <td>US018A</td>\n",
       "      <td>[MON_AMB INCOMP]</td>\n",
       "    </tr>\n",
       "    <tr>\n",
       "      <th>4</th>\n",
       "      <td>CUR005FIL_448090,458BIOABVAT211</td>\n",
       "      <td>AT</td>\n",
       "      <td>BV</td>\n",
       "      <td>2022-09-05</td>\n",
       "      <td>CUR005FIL</td>\n",
       "      <td>[VAL_03 COMP]</td>\n",
       "    </tr>\n",
       "    <tr>\n",
       "      <th>...</th>\n",
       "      <td>...</td>\n",
       "      <td>...</td>\n",
       "      <td>...</td>\n",
       "      <td>...</td>\n",
       "      <td>...</td>\n",
       "      <td>...</td>\n",
       "    </tr>\n",
       "    <tr>\n",
       "      <th>95</th>\n",
       "      <td>US1050FIL_448100,477BIOANAT</td>\n",
       "      <td>AT</td>\n",
       "      <td>N</td>\n",
       "      <td>2022-09-06</td>\n",
       "      <td>US1050FIL</td>\n",
       "      <td>[VAL_01 COMP]</td>\n",
       "    </tr>\n",
       "    <tr>\n",
       "      <th>96</th>\n",
       "      <td>US1050FIL_448100,476BIOANAT</td>\n",
       "      <td>AT</td>\n",
       "      <td>N</td>\n",
       "      <td>2022-09-06</td>\n",
       "      <td>US1050FIL</td>\n",
       "      <td>[VAL_01 COMP]</td>\n",
       "    </tr>\n",
       "    <tr>\n",
       "      <th>97</th>\n",
       "      <td>P15B_448090,597BIOANASUB</td>\n",
       "      <td>ASUB</td>\n",
       "      <td>N</td>\n",
       "      <td>2022-09-05</td>\n",
       "      <td>P15B</td>\n",
       "      <td>[MON_AMB INCOMP]</td>\n",
       "    </tr>\n",
       "    <tr>\n",
       "      <th>98</th>\n",
       "      <td>US018A_448100,492BIOANASUB</td>\n",
       "      <td>ASUB</td>\n",
       "      <td>N</td>\n",
       "      <td>2022-09-06</td>\n",
       "      <td>US018A</td>\n",
       "      <td>[MON_AMB INCOMP]</td>\n",
       "    </tr>\n",
       "    <tr>\n",
       "      <th>99</th>\n",
       "      <td>US018A_448100,503BIOANASUB</td>\n",
       "      <td>ASUB</td>\n",
       "      <td>N</td>\n",
       "      <td>2022-09-06</td>\n",
       "      <td>US018A</td>\n",
       "      <td>[MON_AMB INCOMP]</td>\n",
       "    </tr>\n",
       "  </tbody>\n",
       "</table>\n",
       "<p>100 rows × 6 columns</p>\n",
       "</div>"
      ],
      "text/plain": [
       "                       #sys_sample_code sample_matrix_code sample_type_code  \\\n",
       "0       US1050FIL_448100,477BIOAMSAT675                 AT               MS   \n",
       "1      US1050FIL_448100,476BIOAMSDAT674                 AT              MSD   \n",
       "2   GMFLOC02FNB_448090,372BIOABVASUB131               ASUB               BV   \n",
       "3        US018A_448100,458BIOABEASUB165               ASUB               BE   \n",
       "4       CUR005FIL_448090,458BIOABVAT211                 AT               BV   \n",
       "..                                  ...                ...              ...   \n",
       "95          US1050FIL_448100,477BIOANAT                 AT                N   \n",
       "96          US1050FIL_448100,476BIOANAT                 AT                N   \n",
       "97             P15B_448090,597BIOANASUB               ASUB                N   \n",
       "98           US018A_448100,492BIOANASUB               ASUB                N   \n",
       "99           US018A_448100,503BIOANASUB               ASUB                N   \n",
       "\n",
       "   sample_date sys_loc_code         task_code  \n",
       "0   2022-09-06    US1050FIL     [VAL_01 COMP]  \n",
       "1   2022-09-06    US1050FIL     [VAL_01 COMP]  \n",
       "2   2022-09-05  GMFLOC02FNB        [MON COMP]  \n",
       "3   2022-09-06       US018A  [MON_AMB INCOMP]  \n",
       "4   2022-09-05    CUR005FIL     [VAL_03 COMP]  \n",
       "..         ...          ...               ...  \n",
       "95  2022-09-06    US1050FIL     [VAL_01 COMP]  \n",
       "96  2022-09-06    US1050FIL     [VAL_01 COMP]  \n",
       "97  2022-09-05         P15B  [MON_AMB INCOMP]  \n",
       "98  2022-09-06       US018A  [MON_AMB INCOMP]  \n",
       "99  2022-09-06       US018A  [MON_AMB INCOMP]  \n",
       "\n",
       "[100 rows x 6 columns]"
      ]
     },
     "execution_count": 14,
     "metadata": {},
     "output_type": "execute_result"
    }
   ],
   "source": [
    "df = pd.read_excel(path + \"VALE_BRU_SAN_2022_09_12_BIOAGRI_PUBLICADAS.xlsx\", sheet_name= \"EFW2FSample\",usecols = cols  )\n",
    "df"
   ]
  },
  {
   "cell_type": "code",
   "execution_count": null,
   "metadata": {},
   "outputs": [],
   "source": [
    "colunas_sample = ['#sys_sample_code', 'sample_name', 'sample_matrix_code',\n",
    "       'sample_type_code', 'sample_source', 'parent_sample_code',\n",
    "       'sample_delivery_group', 'sample_date', 'sample_time', 'sys_loc_code',\n",
    "       'start_depth', 'end_depth', 'depth_unit', 'chain_of_custody',\n",
    "       'sent_to_lab_date', 'sample_receipt_date', 'sampler',\n",
    "       'sampling_company_code', 'sampling_reason', 'sampling_technique',\n",
    "       'task_code', 'collection_quarter', 'composite_yn', 'composite_desc',\n",
    "       'sample_class', 'custom_field_1', 'custom_field_2', 'custom_field_3',\n",
    "       'comment', 'sample_receipt_time']"
   ]
  },
  {
   "cell_type": "code",
   "execution_count": 37,
   "metadata": {},
   "outputs": [
    {
     "name": "stdout",
     "output_type": "stream",
     "text": [
      "Index(['#sys_sample_code', 'sample_matrix_code', 'sample_type_code',\n",
      "       'sample_date', 'sys_loc_code', 'task_code'],\n",
      "      dtype='object')\n"
     ]
    }
   ],
   "source": [
    "#Verificar colunas da tabela\n",
    "columns_df = df.columns\n",
    "print(columns_df)\n",
    "\n",
    "#Verificar se existe coluna\n",
    "if \"custom_field_1\" not in columns_df:\n",
    "    df['custom_field_1'] = \"\""
   ]
  },
  {
   "cell_type": "code",
   "execution_count": 55,
   "metadata": {},
   "outputs": [],
   "source": [
    "#Filtros\n",
    "#Selecionar colunas\n",
    "df_col01 = df[['#sys_sample_code','sample_date', 'sys_loc_code']].copy()\n",
    "\n",
    "#Filtrar tabela\n",
    "\n",
    "df_fil01 = df[\n",
    "                (df[\"sample_type_code\"] == 'N') &\n",
    "                #(df.sample_matrix_code.eq('ASUB')) &\n",
    "                (df.sys_loc_code.str.contains('US'))               \n",
    "            ].copy()\n",
    "\n",
    "#Filtro compartilhado\n",
    "\n",
    "fil02 = ((df[\"sample_type_code\"] == 'N') &\n",
    "         (df.sys_loc_code.str.contains('US')) )\n",
    "\n",
    "df_fil02_ASUB = df[fil02 & \n",
    "                  (df.sample_matrix_code.eq('ASUB'))]\n",
    "df_fil02_AT = df[fil02 & \n",
    "                  (df.sample_matrix_code.eq('AT'))]\n",
    "\n",
    "#Filtro utilizando o .loc\n",
    "\n",
    "#df_fil03 = df.loc[ fil02, [\"sys_loc_code\"] ].copy()\n",
    "df_fil03 = df.loc[ fil02, columns_df ].copy()\n",
    "#print(type(df_fil03))\n",
    "\n",
    "#Usando loc para atribuir valor\n",
    "df.loc[fil02, \"task_code\" ] = \"PME_BIO\"\n",
    "\n",
    "df['custom_field_1'] = \"N\"\n",
    "df.loc[fil02, \"custom_field_1\" ] = \"Y\"\n",
    "\n",
    "#Usando .mask para atribuir ou alterar valor em uma coluna\n",
    "\n",
    "df['custom_field_1'] = df['custom_field_1'].mask(fil02, \"Y\")\n",
    "\n",
    "df['task_code'] = df['task_code'].mask(fil02, df['task_code'].astype(str) + '_PUB')\n",
    "\n",
    "#Usando .iloc para filtrar linhas\n"
   ]
  },
  {
   "cell_type": "code",
   "execution_count": 73,
   "metadata": {},
   "outputs": [
    {
     "data": {
      "text/html": [
       "<div>\n",
       "<style scoped>\n",
       "    .dataframe tbody tr th:only-of-type {\n",
       "        vertical-align: middle;\n",
       "    }\n",
       "\n",
       "    .dataframe tbody tr th {\n",
       "        vertical-align: top;\n",
       "    }\n",
       "\n",
       "    .dataframe thead th {\n",
       "        text-align: right;\n",
       "    }\n",
       "</style>\n",
       "<table border=\"1\" class=\"dataframe\">\n",
       "  <thead>\n",
       "    <tr style=\"text-align: right;\">\n",
       "      <th></th>\n",
       "      <th>#sys_sample_code</th>\n",
       "      <th>sample_matrix_code</th>\n",
       "      <th>sample_type_code</th>\n",
       "      <th>sample_date</th>\n",
       "      <th>sys_loc_code</th>\n",
       "      <th>task_code</th>\n",
       "    </tr>\n",
       "  </thead>\n",
       "  <tbody>\n",
       "    <tr>\n",
       "      <th>0</th>\n",
       "      <td>US1050FIL_448100,477BIOAMSAT675</td>\n",
       "      <td>AT</td>\n",
       "      <td>MS</td>\n",
       "      <td>2022-09-06</td>\n",
       "      <td>US1050FIL</td>\n",
       "      <td>[VAL_01 COMP]</td>\n",
       "    </tr>\n",
       "    <tr>\n",
       "      <th>1</th>\n",
       "      <td>US1050FIL_448100,476BIOAMSDAT674</td>\n",
       "      <td>AT</td>\n",
       "      <td>MSD</td>\n",
       "      <td>2022-09-06</td>\n",
       "      <td>US1050FIL</td>\n",
       "      <td>[VAL_01 COMP]</td>\n",
       "    </tr>\n",
       "    <tr>\n",
       "      <th>2</th>\n",
       "      <td>GMFLOC02FNB_448090,372BIOABVASUB131</td>\n",
       "      <td>ASUB</td>\n",
       "      <td>BV</td>\n",
       "      <td>2022-09-05</td>\n",
       "      <td>GMFLOC02FNB</td>\n",
       "      <td>[MON COMP]</td>\n",
       "    </tr>\n",
       "  </tbody>\n",
       "</table>\n",
       "</div>"
      ],
      "text/plain": [
       "                      #sys_sample_code sample_matrix_code sample_type_code  \\\n",
       "0      US1050FIL_448100,477BIOAMSAT675                 AT               MS   \n",
       "1     US1050FIL_448100,476BIOAMSDAT674                 AT              MSD   \n",
       "2  GMFLOC02FNB_448090,372BIOABVASUB131               ASUB               BV   \n",
       "\n",
       "  sample_date sys_loc_code      task_code  \n",
       "0  2022-09-06    US1050FIL  [VAL_01 COMP]  \n",
       "1  2022-09-06    US1050FIL  [VAL_01 COMP]  \n",
       "2  2022-09-05  GMFLOC02FNB     [MON COMP]  "
      ]
     },
     "execution_count": 73,
     "metadata": {},
     "output_type": "execute_result"
    }
   ],
   "source": [
    "#.loc realiza busca e filtro no dataframe usando condições como filtro e chama a coluna pelo nome\n",
    "#.iloc realiza busca e filtro no dataframe usando indice de numerico \n",
    "#df_iloc = df.iloc[linhas, colunas]\n",
    "df_iloc = df.iloc[[0,1,2], 0:-1 ]\n",
    "df_iloc"
   ]
  }
 ],
 "metadata": {
  "kernelspec": {
   "display_name": "Python 3.7.9 64-bit",
   "language": "python",
   "name": "python3"
  },
  "language_info": {
   "codemirror_mode": {
    "name": "ipython",
    "version": 3
   },
   "file_extension": ".py",
   "mimetype": "text/x-python",
   "name": "python",
   "nbconvert_exporter": "python",
   "pygments_lexer": "ipython3",
   "version": "3.7.9"
  },
  "orig_nbformat": 4,
  "vscode": {
   "interpreter": {
    "hash": "c3cb49cc1503c8173f866b89d15f9effb02a0416f2f9f30041c77353e63c52bc"
   }
  }
 },
 "nbformat": 4,
 "nbformat_minor": 2
}
