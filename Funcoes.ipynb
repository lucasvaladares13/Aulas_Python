{
 "cells": [
  {
   "cell_type": "code",
   "execution_count": null,
   "metadata": {},
   "outputs": [],
   "source": [
    "import pandas as pd\n"
   ]
  },
  {
   "cell_type": "code",
   "execution_count": null,
   "metadata": {},
   "outputs": [],
   "source": [
    "def Nome_Funcao(x, y):\n",
    "    print(x + y)\n",
    "\n",
    "    return x + y"
   ]
  },
  {
   "cell_type": "code",
   "execution_count": 3,
   "metadata": {},
   "outputs": [],
   "source": [
    "func_lambda = lambda x,y: x if x > y else y"
   ]
  },
  {
   "cell_type": "code",
   "execution_count": 6,
   "metadata": {},
   "outputs": [
    {
     "data": {
      "text/plain": [
       "3"
      ]
     },
     "execution_count": 6,
     "metadata": {},
     "output_type": "execute_result"
    }
   ],
   "source": [
    "class ETL:\n",
    "    def __init__(self,edd):\n",
    "        print(\"start\")\n",
    "        self.edd = edd\n",
    "\n",
    "    def mask_column(self,colum_name, value,fil_param):\n",
    "\n",
    "        self.edd [colum_name] = self.edd [colum_name].mask(fil_param, value)\n",
    "\n",
    "        return self.edd\n",
    "\n",
    "    \n",
    "    def fReplace (self):\n",
    "        fil02 = ((self.edd[\"sample_type_code\"] == 'N') &\n",
    "         (self.edd.sys_loc_code.str.contains('US')) )\n",
    "\n",
    "        self.edd  = self.mask_column('sys_sample_code','Y',fil02)\n",
    "\n",
    "        return self.edd\n",
    "\n",
    "    def fFiltro(self, matriz):\n",
    "        self.edd = self.edd[self.edd['matrix_code'] == matriz]\n",
    "        return self.edd\n",
    "\n",
    "    def fRunETL(self):\n",
    "\n",
    "        self.edd = self.fReplace()\n",
    "        self.edd = self.fFiltro('ASUP')\n",
    "\n",
    "\n",
    "        return self.edd\n",
    "\n",
    "\n",
    "\n",
    "    "
   ]
  },
  {
   "cell_type": "code",
   "execution_count": null,
   "metadata": {},
   "outputs": [],
   "source": [
    "df = pd.read_excel()\n",
    "\n",
    "df = ETL(df).fRunETL()\n"
   ]
  }
 ],
 "metadata": {
  "kernelspec": {
   "display_name": "Python 3.7.9 64-bit",
   "language": "python",
   "name": "python3"
  },
  "language_info": {
   "codemirror_mode": {
    "name": "ipython",
    "version": 3
   },
   "file_extension": ".py",
   "mimetype": "text/x-python",
   "name": "python",
   "nbconvert_exporter": "python",
   "pygments_lexer": "ipython3",
   "version": "3.7.9"
  },
  "orig_nbformat": 4,
  "vscode": {
   "interpreter": {
    "hash": "c3cb49cc1503c8173f866b89d15f9effb02a0416f2f9f30041c77353e63c52bc"
   }
  }
 },
 "nbformat": 4,
 "nbformat_minor": 2
}
